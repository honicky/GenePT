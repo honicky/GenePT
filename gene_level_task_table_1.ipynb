{
 "cells": [
  {
   "cell_type": "code",
   "execution_count": 3,
   "id": "880a279a",
   "metadata": {},
   "outputs": [],
   "source": [
    "%load_ext autoreload\n",
    "%autoreload 2\n"
   ]
  },
  {
   "cell_type": "code",
   "execution_count": 4,
   "id": "cdec6a12",
   "metadata": {},
   "outputs": [],
   "source": [
    "import pandas as pd\n",
    "import seaborn as sns\n",
    "sns.set_style(\"whitegrid\")\n",
    "import pandas as pd\n",
    "import numpy as np \n",
    "import scipy.stats as stats\n",
    "from collections import Counter\n",
    "import matplotlib.pyplot as plt\n",
    "import umap\n",
    "import matplotlib\n",
    "import mygene\n",
    "%matplotlib inline\n",
    "import pickle\n",
    "import sklearn\n",
    "import random\n",
    "from sklearn.model_selection import StratifiedKFold\n",
    "from sklearn.metrics import roc_curve, auc\n",
    "from sklearn.linear_model import LogisticRegression\n",
    "from sklearn.ensemble import RandomForestClassifier\n",
    "from sklearn.model_selection import cross_validate\n",
    "from xgboost import XGBClassifier\n",
    "# import sentence_transformers\n",
    "plt.style.use('ggplot')\n",
    "#plt.style.use('seaborn-v0_8-dark-palette')\n",
    "plt.rcParams['axes.facecolor'] = 'white'\n",
    "plt.rcParams.update({\n",
    "    \"text.usetex\": True,\n",
    "    \"font.family\": \"Helvetica\"\n",
    "})\n",
    "import matplotlib_inline\n",
    "matplotlib_inline.backend_inline.set_matplotlib_formats('retina')"
   ]
  },
  {
   "cell_type": "code",
   "execution_count": 25,
   "id": "512d32f1",
   "metadata": {},
   "outputs": [
    {
     "name": "stdout",
     "output_type": "stream",
     "text": [
      "File already exists at /Users/rj/personal/GenePT/data/GenePT_emebdding_v2.zip\n",
      "Extracting files...\n",
      "Extracting GenePT_emebdding_v2/\n",
      "Skipping GenePT_emebdding_v2/NCBI_UniProt_summary_of_genes.json - already exists with same size\n",
      "Skipping GenePT_emebdding_v2/GenePT_gene_embedding_ada_text.pickle - already exists with same size\n",
      "Skipping GenePT_emebdding_v2/GenePT_gene_protein_embedding_model_3_text.pickle. - already exists with same size\n",
      "Skipping GenePT_emebdding_v2/NCBI_summary_of_genes.json - already exists with same size\n",
      "Extraction complete!\n",
      "Setup finished!\n"
     ]
    }
   ],
   "source": [
    "from src.utils import download_file, setup_data_dir\n",
    "\n",
    "setup_data_dir()"
   ]
  },
  {
   "cell_type": "code",
   "execution_count": 6,
   "id": "eba94691",
   "metadata": {},
   "outputs": [
    {
     "name": "stdout",
     "output_type": "stream",
     "text": [
      "embedding_dir exists: True\n",
      "ada_embedding_path exists: True\n",
      "large_embedding_path exists: True\n"
     ]
    }
   ],
   "source": [
    "embedding_dir = data_dir / \"GenePT_emebdding_v2\"\n",
    "ada_embedding_path = embedding_dir / \"GenePT_gene_embedding_ada_text.pickle\"\n",
    "large_embedding_path = embedding_dir / \"GenePT_gene_embedding_ada_text.pickle\"\n",
    "\n",
    "print(\"embedding_dir exists:\", embedding_dir.exists())\n",
    "print(\"ada_embedding_path exists:\", ada_embedding_path.exists())\n",
    "print(\"large_embedding_path exists:\", large_embedding_path.exists())\n"
   ]
  },
  {
   "cell_type": "code",
   "execution_count": 7,
   "id": "370b03b7",
   "metadata": {},
   "outputs": [],
   "source": [
    "from src.utils import get_gene_embeddings\n",
    "# gene_embedding = get_gene_embeddings(\"text-embedding-ada-002\")\n",
    "gene_embedding = get_gene_embeddings(\"text-embedding-3-large\")"
   ]
  },
  {
   "cell_type": "code",
   "execution_count": 8,
   "id": "25391584",
   "metadata": {},
   "outputs": [],
   "source": [
    "# Create random embeddings as negative controls\n",
    "np.random.seed(2023)\n",
    "N_DIM = 1536\n",
    "fake_pretrain_embed = dict()\n",
    "for key in gene_embedding.keys():\n",
    "    fake_pretrain_embed[key] = np.random.normal(size=(N_DIM))"
   ]
  },
  {
   "cell_type": "markdown",
   "id": "d890098f",
   "metadata": {},
   "source": [
    "### Long- vs short- range TFs\n",
    "\n",
    "The input data used here are downloaded from Chen et al. (2020) (link: https://www-nature-com.stanford.idm.oclc.org/articles/s41467-020-16106-x).\n",
    "\n",
    "Data link: https://static-content.springer.com/esm/art%3A10.1038%2Fs41467-020-16106-x/MediaObjects/41467_2020_16106_MOESM4_ESM.csv\n",
    "\n"
   ]
  },
  {
   "cell_type": "code",
   "execution_count": 9,
   "id": "c45d8ad7",
   "metadata": {},
   "outputs": [
    {
     "name": "stdout",
     "output_type": "stream",
     "text": [
      "File already exists at /Users/rj/personal/GenePT/data/41467_2020_16106_MOESM4_ESM.csv\n"
     ]
    }
   ],
   "source": [
    "# Create moesm directory if it doesn't exist\n",
    "moesm_dir = data_dir / \"moesm\"\n",
    "moesm_dir.mkdir(exist_ok=True)\n",
    "\n",
    "# Download URL for the TF data\n",
    "tf_data_url = \"https://static-content.springer.com/esm/art%3A10.1038%2Fs41467-020-16106-x/MediaObjects/41467_2020_16106_MOESM4_ESM.csv\"\n",
    "tf_csv_path = download_file(tf_data_url)\n",
    "\n"
   ]
  },
  {
   "cell_type": "code",
   "execution_count": 10,
   "id": "a7e106aa",
   "metadata": {},
   "outputs": [],
   "source": [
    "long_short_range_tf = pd.read_csv(tf_csv_path)\n",
    "long_range_tf_gene = list(long_short_range_tf[long_short_range_tf['assignment']=='long-range TF']\\\n",
    "                                ['Unnamed: 0'])\n",
    "short_range_tf_gene = list(long_short_range_tf[long_short_range_tf['assignment']=='short-range TF']\\\n",
    "                                ['Unnamed: 0'])\n",
    "x_long_range_tf = [gene_embedding[x] for x in long_range_tf_gene \\\n",
    "               if x in gene_embedding]\n",
    "x_short_range_tf =  [gene_embedding[x] for x in short_range_tf_gene\\\n",
    "               if x in gene_embedding]"
   ]
  },
  {
   "cell_type": "code",
   "execution_count": 11,
   "id": "850ddec9",
   "metadata": {},
   "outputs": [
    {
     "name": "stdout",
     "output_type": "stream",
     "text": [
      "Logistic Regression ROC AUC: 0.743 +/- 0.137\n",
      "Random Forest ROC AUC: 0.856 +/- 0.135\n"
     ]
    }
   ],
   "source": [
    "# bivalent versus non-methylated\n",
    "np.random.seed(2023)\n",
    "random.seed(2023)\n",
    "\n",
    "# Assuming x and y are your data\n",
    "# For demonstration, let's create some dummy data.\n",
    "# Ensure your data is in NumPy array format for compatibility\n",
    "X_array = np.concatenate((x_long_range_tf,x_short_range_tf))\n",
    "y_array = np.concatenate((np.repeat(1,len(x_long_range_tf)),np.repeat(0,len(x_short_range_tf))))\n",
    "\n",
    "# Set up Stratified K-Folds cross-validator\n",
    "# It provides train/test indices to split data into train/test sets\n",
    "cv = StratifiedKFold(n_splits=5)\n",
    "\n",
    "# Lists to store ROC AUC scores for each fold\n",
    "roc_auc_logistic = []\n",
    "roc_auc_rf = []\n",
    "\n",
    "# Lists to store TPR and FPR for each fold\n",
    "tpr_logistic = []\n",
    "fpr_logistic = []\n",
    "tpr_rf = []\n",
    "fpr_rf = []\n",
    "\n",
    "for train_index, test_index in cv.split(X_array, y_array):\n",
    "    X_train, X_test = X_array[train_index], X_array[test_index]\n",
    "    y_train, y_test = y_array[train_index], y_array[test_index]\n",
    "\n",
    "    # Logistic Regression\n",
    "    logistic_model = LogisticRegression()\n",
    "    logistic_model.fit(X_train, y_train)\n",
    "    y_score_logistic = logistic_model.predict_proba(X_test)[:, 1]\n",
    "    fpr, tpr, _ = roc_curve(y_test, y_score_logistic)\n",
    "    roc_auc = auc(fpr, tpr)\n",
    "    roc_auc_logistic.append(roc_auc)\n",
    "    tpr_logistic.append(tpr)\n",
    "    fpr_logistic.append(fpr)\n",
    "\n",
    "    # Random Forest\n",
    "    random_forest_model = RandomForestClassifier()\n",
    "    random_forest_model.fit(X_train, y_train)\n",
    "    y_score_rf = random_forest_model.predict_proba(X_test)[:, 1]\n",
    "    fpr, tpr, _ = roc_curve(y_test, y_score_rf)\n",
    "    roc_auc = auc(fpr, tpr)\n",
    "    roc_auc_rf.append(roc_auc)\n",
    "    tpr_rf.append(tpr)\n",
    "    fpr_rf.append(fpr)\n",
    "\n",
    "# Print ROC AUC scores\n",
    "print(f\"Logistic Regression ROC AUC: {np.mean(roc_auc_logistic):.3f} +/- {np.std(roc_auc_logistic):.3f}\")\n",
    "print(f\"Random Forest ROC AUC: {np.mean(roc_auc_rf):.3f} +/- {np.std(roc_auc_rf):.3f}\")\n"
   ]
  },
  {
   "cell_type": "markdown",
   "id": "2a80d457",
   "metadata": {},
   "source": [
    "## Dosage sensitive vs insensitive TFs"
   ]
  },
  {
   "cell_type": "code",
   "execution_count": 12,
   "id": "edcc56f9",
   "metadata": {},
   "outputs": [
    {
     "name": "stdout",
     "output_type": "stream",
     "text": [
      "File already exists at /Users/rj/personal/GenePT/data/dosage_sensitivity_TFs.pickle\n"
     ]
    }
   ],
   "source": [
    "# Create data directory for dosage sensitivity data if it doesn't exist\n",
    "dosage_dir = data_dir / \"dosage_sensitivity\"\n",
    "dosage_dir.mkdir(exist_ok=True)\n",
    "\n",
    "# Download URL for the dosage sensitivity data\n",
    "dosage_data_url = \"https://huggingface.co/datasets/ctheodoris/Genecorpus-30M/resolve/main/example_input_files/gene_classification/dosage_sensitive_tfs/dosage_sensitivity_TFs.pickle\"\n",
    "dosage_pickle_path = download_file(dosage_data_url)\n",
    "\n",
    "# Load the pickle file\n",
    "with open(dosage_pickle_path, \"rb\") as f:\n",
    "    dosage_data = pickle.load(f)\n",
    "\n",
    "# Extract sensitive and insensitive TFs\n",
    "sensitive = dosage_data[\"Dosage-sensitive TFs\"]\n",
    "insensitive = dosage_data[\"Dosage-insensitive TFs\"]"
   ]
  },
  {
   "cell_type": "code",
   "execution_count": 13,
   "id": "cb7fb72a",
   "metadata": {},
   "outputs": [
    {
     "name": "stderr",
     "output_type": "stream",
     "text": [
      "1 input query terms found no hit:\t['ENSG00000215271']\n"
     ]
    }
   ],
   "source": [
    "mg = mygene.MyGeneInfo()\n",
    "sensitive_query = mg.querymany(sensitive, species='human')\n",
    "in_sensitive_query = mg.querymany(insensitive, species='human')\n",
    "sensitive_gene_name = [x['symbol'] for x in sensitive_query]\n",
    "in_sensitive_gene_name = [x['symbol'] for x in in_sensitive_query if 'symbol' in x]"
   ]
  },
  {
   "cell_type": "code",
   "execution_count": 14,
   "id": "21d8689e",
   "metadata": {},
   "outputs": [],
   "source": [
    "x_sensitive = [gene_embedding[name] for name in sensitive_gene_name\\\n",
    "               if name in gene_embedding]\n",
    "x_insensitive = [gene_embedding[name] for name in in_sensitive_gene_name \\\n",
    "                 if name in gene_embedding]\n",
    "x_dosage = x_sensitive.copy()\n",
    "x_dosage.extend(x_insensitive)\n",
    "y_dosage = np.concatenate((np.repeat(1,len(x_sensitive)),np.repeat(0,len(x_insensitive))))"
   ]
  },
  {
   "cell_type": "code",
   "execution_count": 15,
   "id": "050c4a0f",
   "metadata": {},
   "outputs": [
    {
     "name": "stdout",
     "output_type": "stream",
     "text": [
      "Logistic Regression ROC AUC: 0.874 +/- 0.044\n",
      "Random Forest ROC AUC: 0.892 +/- 0.038\n"
     ]
    }
   ],
   "source": [
    "np.random.seed(2023)\n",
    "random.seed(2023)\n",
    "\n",
    "# Ensure your data is in NumPy array format for compatibility\n",
    "X_array = np.array(x_dosage)\n",
    "y_array = np.array(y_dosage)\n",
    "\n",
    "\n",
    "# Set up Stratified K-Folds cross-validator\n",
    "# It provides train/test indices to split data into train/test sets\n",
    "cv = StratifiedKFold(n_splits=5)\n",
    "\n",
    "# Lists to store ROC AUC scores for each fold\n",
    "roc_auc_logistic = []\n",
    "roc_auc_rf = []\n",
    "\n",
    "# Lists to store TPR and FPR for each fold\n",
    "tpr_logistic = []\n",
    "fpr_logistic = []\n",
    "tpr_rf = []\n",
    "fpr_rf = []\n",
    "\n",
    "for train_index, test_index in cv.split(X_array, y_array):\n",
    "    X_train, X_test = X_array[train_index], X_array[test_index]\n",
    "    y_train, y_test = y_array[train_index], y_array[test_index]\n",
    "\n",
    "    # Logistic Regression\n",
    "    logistic_model = LogisticRegression()\n",
    "    logistic_model.fit(X_train, y_train)\n",
    "    y_score_logistic = logistic_model.predict_proba(X_test)[:, 1]\n",
    "    fpr, tpr, _ = roc_curve(y_test, y_score_logistic)\n",
    "    roc_auc = auc(fpr, tpr)\n",
    "    roc_auc_logistic.append(roc_auc)\n",
    "    tpr_logistic.append(tpr)\n",
    "    fpr_logistic.append(fpr)\n",
    "\n",
    "    # Random Forest\n",
    "    random_forest_model = RandomForestClassifier()\n",
    "    random_forest_model.fit(X_train, y_train)\n",
    "    y_score_rf = random_forest_model.predict_proba(X_test)[:, 1]\n",
    "    fpr, tpr, _ = roc_curve(y_test, y_score_rf)\n",
    "    roc_auc = auc(fpr, tpr)\n",
    "    roc_auc_rf.append(roc_auc)\n",
    "    tpr_rf.append(tpr)\n",
    "    fpr_rf.append(fpr)\n",
    "\n",
    "# Print ROC AUC scores\n",
    "print(f\"Logistic Regression ROC AUC: {np.mean(roc_auc_logistic):.3f} +/- {np.std(roc_auc_logistic):.3f}\")\n",
    "print(f\"Random Forest ROC AUC: {np.mean(roc_auc_rf):.3f} +/- {np.std(roc_auc_rf):.3f}\")\n"
   ]
  },
  {
   "cell_type": "markdown",
   "id": "06f9f0fa",
   "metadata": {},
   "source": [
    "# Plot ROC curve for logistic regression and random forest models\n",
    "\n",
    "This might require latex installation.  On Mac, you can install it with:\n",
    "```\n",
    "brew install --cask mactex\n",
    "```"
   ]
  },
  {
   "cell_type": "code",
   "execution_count": 16,
   "id": "20487f63",
   "metadata": {},
   "outputs": [
    {
     "data": {
      "image/png": "[encoded data removed]",
      "text/plain": [
       "<Figure size 640x480 with 1 Axes>"
      ]
     },
     "metadata": {
      "image/png": {
       "height": 455,
       "width": 573
      }
     },
     "output_type": "display_data"
    }
   ],
   "source": [
    "# Plot ROC curves\n",
    "plt.figure()\n",
    "plt.plot([0, 1], [0, 1], color='navy', lw=2, linestyle='--')\n",
    "plt.plot(fpr_logistic[0], tpr_logistic[0], color='darkorange', lw=2, label='Logistic Regression (AUC = %0.2f)' % np.mean(roc_auc_logistic))\n",
    "plt.plot(fpr_rf[0], tpr_rf[0], color='green', lw=2, label='Random Forest (AUC = %0.2f)' % np.mean(roc_auc_rf))\n",
    "plt.xlim([0.0, 1.0])\n",
    "plt.ylim([0.0, 1.05])\n",
    "plt.xlabel('False Positive Rate')\n",
    "plt.ylabel('True Positive Rate')\n",
    "plt.title('AUC for dosage sensitivity prediction, GPT')\n",
    "plt.legend(loc='lower right')\n",
    "plt.show()"
   ]
  },
  {
   "cell_type": "markdown",
   "id": "8c81914b",
   "metadata": {},
   "source": [
    "## Methylation state prediction\n",
    "The Methylation state prediction files are downloaded from https://huggingface.co/datasets/ctheodoris/Genecorpus-30M/"
   ]
  },
  {
   "cell_type": "code",
   "execution_count": 22,
   "id": "498602a0",
   "metadata": {},
   "outputs": [
    {
     "name": "stdout",
     "output_type": "stream",
     "text": [
      "File already exists at /Users/rj/personal/GenePT/data/bivalent_vs_no_methyl.pickle\n",
      "File already exists at /Users/rj/personal/GenePT/data/bivalent_vs_lys4_only.pickle\n"
     ]
    }
   ],
   "source": [
    "bivalent_vs_no_methyl_data_url = \"https://huggingface.co/datasets/ctheodoris/Genecorpus-30M/resolve/main/example_input_files/gene_classification/bivalent_promoters/bivalent_vs_no_methyl.pickle\"\n",
    "bivalent_vs_no_methyl_data_path = download_file(bivalent_vs_no_methyl_data_url)\n",
    "with open(bivalent_vs_no_methyl_data_path, \"rb\") as f:\n",
    "    bivalent_vs_no_methyl_data = pickle.load(f)\n",
    "\n",
    "bivalent_vs_lys4_only_data_url = \"https://huggingface.co/datasets/ctheodoris/Genecorpus-30M/resolve/main/example_input_files/gene_classification/bivalent_promoters/bivalent_vs_lys4_only.pickle\"\n",
    "bivalent_vs_lys4_only_data_path = download_file(bivalent_vs_lys4_only_data_url)\n",
    "with open(bivalent_vs_lys4_only_data_path, \"rb\") as f:\n",
    "    bivalent_vs_lys4_only_data = pickle.load(f)\n"
   ]
  },
  {
   "cell_type": "code",
   "execution_count": 23,
   "id": "26f24ab1",
   "metadata": {},
   "outputs": [
    {
     "name": "stderr",
     "output_type": "stream",
     "text": [
      "10 input query terms found dup hits:\t[('ENSG00000007372', 2), ('ENSG00000110693', 2), ('ENSG00000117707', 2), ('ENSG00000120093', 2), ('E\n",
      "2 input query terms found dup hits:\t[('ENSG00000147488', 2), ('ENSG00000151322', 2)]\n",
      "2 input query terms found dup hits:\t[('ENSG00000196628', 2), ('ENSG00000198728', 2)]\n"
     ]
    }
   ],
   "source": [
    "bivalent_query = mg.querymany(bivalent_vs_no_methyl_data['bivalent'], species='human')\n",
    "no_methylation_query = mg.querymany(bivalent_vs_no_methyl_data['no_methylation'], species='human')\n",
    "lysine_query = mg.querymany(bivalent_vs_lys4_only_data['lys4_only'], species='human')"
   ]
  },
  {
   "cell_type": "code",
   "execution_count": 24,
   "id": "308d2bd6",
   "metadata": {},
   "outputs": [],
   "source": [
    "\n",
    "x_bivalent = [gene_embedding[x['symbol']] for x in bivalent_query\\\n",
    "               if 'symbol' in x and x['symbol'] in gene_embedding]\n",
    "x_no_methylation = [gene_embedding[x['symbol']] for x in no_methylation_query\\\n",
    "               if 'symbol' in x and  x['symbol'] in gene_embedding]\n",
    "x_lysine = [gene_embedding[x['symbol']] for x in lysine_query\\\n",
    "                if 'symbol' in x and  x['symbol'] in gene_embedding]\n"
   ]
  },
  {
   "cell_type": "markdown",
   "id": "adeba376",
   "metadata": {},
   "source": [
    "### Bivalent versus non-methylated"
   ]
  },
  {
   "cell_type": "code",
   "execution_count": 20,
   "id": "e6f83a44",
   "metadata": {},
   "outputs": [
    {
     "name": "stdout",
     "output_type": "stream",
     "text": [
      "Logistic Regression ROC AUC: 0.905 +/- 0.051\n",
      "Random Forest ROC AUC: 0.914 +/- 0.073\n"
     ]
    }
   ],
   "source": [
    "# bivalent versus non-methylated\n",
    "np.random.seed(2023)\n",
    "random.seed(2023)\n",
    "\n",
    "X_array = np.concatenate((x_bivalent,x_no_methylation))\n",
    "y_array =  np.concatenate((np.repeat(1,len(x_bivalent)),np.repeat(0,len(x_no_methylation))))\n",
    "\n",
    "# Set up Stratified K-Folds cross-validator\n",
    "# It provides train/test indices to split data into train/test sets\n",
    "cv = StratifiedKFold(n_splits=5)\n",
    "\n",
    "# Lists to store ROC AUC scores for each fold\n",
    "roc_auc_logistic = []\n",
    "roc_auc_rf = []\n",
    "\n",
    "# Lists to store TPR and FPR for each fold\n",
    "tpr_logistic = []\n",
    "fpr_logistic = []\n",
    "tpr_rf = []\n",
    "fpr_rf = []\n",
    "\n",
    "for train_index, test_index in cv.split(X_array, y_array):\n",
    "    X_train, X_test = X_array[train_index], X_array[test_index]\n",
    "    y_train, y_test = y_array[train_index], y_array[test_index]\n",
    "\n",
    "    # Logistic Regression\n",
    "    logistic_model = LogisticRegression()\n",
    "    logistic_model.fit(X_train, y_train)\n",
    "    y_score_logistic = logistic_model.predict_proba(X_test)[:, 1]\n",
    "    fpr, tpr, _ = roc_curve(y_test, y_score_logistic)\n",
    "    roc_auc = auc(fpr, tpr)\n",
    "    roc_auc_logistic.append(roc_auc)\n",
    "    tpr_logistic.append(tpr)\n",
    "    fpr_logistic.append(fpr)\n",
    "\n",
    "    # Random Forest\n",
    "    random_forest_model = RandomForestClassifier()\n",
    "    random_forest_model.fit(X_train, y_train)\n",
    "    y_score_rf = random_forest_model.predict_proba(X_test)[:, 1]\n",
    "    fpr, tpr, _ = roc_curve(y_test, y_score_rf)\n",
    "    roc_auc = auc(fpr, tpr)\n",
    "    roc_auc_rf.append(roc_auc)\n",
    "    tpr_rf.append(tpr)\n",
    "    fpr_rf.append(fpr)\n",
    "\n",
    "# Print ROC AUC scores\n",
    "print(f\"Logistic Regression ROC AUC: {np.mean(roc_auc_logistic):.3f} +/- {np.std(roc_auc_logistic):.3f}\")\n",
    "print(f\"Random Forest ROC AUC: {np.mean(roc_auc_rf):.3f} +/- {np.std(roc_auc_rf):.3f}\")\n"
   ]
  },
  {
   "cell_type": "markdown",
   "id": "cac9e83c",
   "metadata": {},
   "source": [
    "### bivalent versus lys-4 methylated"
   ]
  },
  {
   "cell_type": "code",
   "execution_count": 21,
   "id": "e7cd1241",
   "metadata": {},
   "outputs": [
    {
     "name": "stdout",
     "output_type": "stream",
     "text": [
      "Logistic Regression ROC AUC: 0.946 +/- 0.035\n",
      "Random Forest ROC AUC: 0.949 +/- 0.040\n"
     ]
    }
   ],
   "source": [
    "np.random.seed(2023)\n",
    "random.seed(2023)\n",
    "\n",
    "# Assuming x and y are your data\n",
    "# For demonstration, let's create some dummy data.\n",
    "# Ensure your data is in NumPy array format for compatibility\n",
    "X_array = np.concatenate((x_bivalent,x_lysine))\n",
    "y_array =  np.concatenate((np.repeat(1,len(x_bivalent)),np.repeat(0,len(x_lysine))))\n",
    "\n",
    "# Set up Stratified K-Folds cross-validator\n",
    "# It provides train/test indices to split data into train/test sets\n",
    "cv = StratifiedKFold(n_splits=5)\n",
    "\n",
    "# Lists to store ROC AUC scores for each fold\n",
    "roc_auc_logistic = []\n",
    "roc_auc_rf = []\n",
    "roc_auc_xgb = []\n",
    "\n",
    "# Lists to store TPR and FPR for each fold\n",
    "tpr_logistic = []\n",
    "fpr_logistic = []\n",
    "tpr_rf = []\n",
    "fpr_rf = []\n",
    "\n",
    "for train_index, test_index in cv.split(X_array, y_array):\n",
    "    X_train, X_test = X_array[train_index], X_array[test_index]\n",
    "    y_train, y_test = y_array[train_index], y_array[test_index]\n",
    "\n",
    "    # Logistic Regression\n",
    "    logistic_model = LogisticRegression()\n",
    "    logistic_model.fit(X_train, y_train)\n",
    "    y_score_logistic = logistic_model.predict_proba(X_test)[:, 1]\n",
    "    fpr, tpr, _ = roc_curve(y_test, y_score_logistic)\n",
    "    roc_auc = auc(fpr, tpr)\n",
    "    roc_auc_logistic.append(roc_auc)\n",
    "    tpr_logistic.append(tpr)\n",
    "    fpr_logistic.append(fpr)\n",
    "\n",
    "    # Random Forest\n",
    "    random_forest_model = RandomForestClassifier()\n",
    "    random_forest_model.fit(X_train, y_train)\n",
    "    y_score_rf = random_forest_model.predict_proba(X_test)[:, 1]\n",
    "    fpr, tpr, _ = roc_curve(y_test, y_score_rf)\n",
    "    roc_auc = auc(fpr, tpr)\n",
    "    roc_auc_rf.append(roc_auc)\n",
    "    tpr_rf.append(tpr)\n",
    "    fpr_rf.append(fpr)\n",
    "\n",
    "\n",
    "# Print ROC AUC scores\n",
    "print(f\"Logistic Regression ROC AUC: {np.mean(roc_auc_logistic):.3f} +/- {np.std(roc_auc_logistic):.3f}\")\n",
    "print(f\"Random Forest ROC AUC: {np.mean(roc_auc_rf):.3f} +/- {np.std(roc_auc_rf):.3f}\")"
   ]
  }
 ],
 "metadata": {
  "kernelspec": {
   "display_name": "Python 3 (ipykernel)",
   "language": "python",
   "name": "python3"
  },
  "language_info": {
   "codemirror_mode": {
    "name": "ipython",
    "version": 3
   },
   "file_extension": ".py",
   "mimetype": "text/x-python",
   "name": "python",
   "nbconvert_exporter": "python",
   "pygments_lexer": "ipython3",
   "version": "3.13.1"
  }
 },
 "nbformat": 4,
 "nbformat_minor": 5
}
